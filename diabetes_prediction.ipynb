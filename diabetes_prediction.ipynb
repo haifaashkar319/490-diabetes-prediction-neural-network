{
 "cells": [
  {
   "cell_type": "code",
   "execution_count": null,
   "metadata": {
    "id": "kjQppFs9jH2v"
   },
   "outputs": [],
   "source": []
  },
  {
   "cell_type": "markdown",
   "metadata": {
    "id": "VViBqO4HjHYt"
   },
   "source": [
    "Clone Repo"
   ]
  },
  {
   "cell_type": "code",
   "execution_count": 2,
   "metadata": {
    "colab": {
     "base_uri": "https://localhost:8080/"
    },
    "id": "xY8ZnHVqgq_c",
    "outputId": "a5273da5-e4a2-4f99-c2ac-f37f87328971"
   },
   "outputs": [
    {
     "name": "stdout",
     "output_type": "stream",
     "text": [
      "Cloning into '490-diabetes-prediction-neural-network'...\n",
      "warning: You appear to have cloned an empty repository.\n"
     ]
    }
   ],
   "source": [
    "!git clone https://github.com/haifaashkar319/490-diabetes-prediction-neural-network.git\n"
   ]
  },
  {
   "cell_type": "code",
   "execution_count": 3,
   "metadata": {
    "colab": {
     "base_uri": "https://localhost:8080/"
    },
    "id": "VaJbGnfHjB7M",
    "outputId": "e34bf15b-f1a4-490c-f8dd-012c9da0d107"
   },
   "outputs": [
    {
     "name": "stdout",
     "output_type": "stream",
     "text": [
      "/content/490-diabetes-prediction-neural-network\n"
     ]
    }
   ],
   "source": [
    "%cd 490-diabetes-prediction-neural-network"
   ]
  },
  {
   "cell_type": "markdown",
   "metadata": {
    "id": "_CDRC45NjGAa"
   },
   "source": [
    "Install libraries\n"
   ]
  },
  {
   "cell_type": "code",
   "execution_count": 4,
   "metadata": {
    "colab": {
     "base_uri": "https://localhost:8080/"
    },
    "id": "8V7mQaf8jOHp",
    "outputId": "07e9ea5e-1d02-4f07-c7e4-25a0cbb8e5cd"
   },
   "outputs": [
    {
     "name": "stdout",
     "output_type": "stream",
     "text": [
      "Requirement already satisfied: torch in /usr/local/lib/python3.10/dist-packages (2.5.0+cu121)\n",
      "Requirement already satisfied: torchvision in /usr/local/lib/python3.10/dist-packages (0.20.0+cu121)\n",
      "Requirement already satisfied: torchaudio in /usr/local/lib/python3.10/dist-packages (2.5.0+cu121)\n",
      "Requirement already satisfied: filelock in /usr/local/lib/python3.10/dist-packages (from torch) (3.16.1)\n",
      "Requirement already satisfied: typing-extensions>=4.8.0 in /usr/local/lib/python3.10/dist-packages (from torch) (4.12.2)\n",
      "Requirement already satisfied: networkx in /usr/local/lib/python3.10/dist-packages (from torch) (3.4.2)\n",
      "Requirement already satisfied: jinja2 in /usr/local/lib/python3.10/dist-packages (from torch) (3.1.4)\n",
      "Requirement already satisfied: fsspec in /usr/local/lib/python3.10/dist-packages (from torch) (2024.10.0)\n",
      "Requirement already satisfied: sympy==1.13.1 in /usr/local/lib/python3.10/dist-packages (from torch) (1.13.1)\n",
      "Requirement already satisfied: mpmath<1.4,>=1.1.0 in /usr/local/lib/python3.10/dist-packages (from sympy==1.13.1->torch) (1.3.0)\n",
      "Requirement already satisfied: numpy in /usr/local/lib/python3.10/dist-packages (from torchvision) (1.26.4)\n",
      "Requirement already satisfied: pillow!=8.3.*,>=5.3.0 in /usr/local/lib/python3.10/dist-packages (from torchvision) (10.4.0)\n",
      "Requirement already satisfied: MarkupSafe>=2.0 in /usr/local/lib/python3.10/dist-packages (from jinja2->torch) (3.0.2)\n",
      "Requirement already satisfied: pandas in /usr/local/lib/python3.10/dist-packages (2.2.2)\n",
      "Requirement already satisfied: scikit-learn in /usr/local/lib/python3.10/dist-packages (1.5.2)\n",
      "Requirement already satisfied: numpy>=1.22.4 in /usr/local/lib/python3.10/dist-packages (from pandas) (1.26.4)\n",
      "Requirement already satisfied: python-dateutil>=2.8.2 in /usr/local/lib/python3.10/dist-packages (from pandas) (2.8.2)\n",
      "Requirement already satisfied: pytz>=2020.1 in /usr/local/lib/python3.10/dist-packages (from pandas) (2024.2)\n",
      "Requirement already satisfied: tzdata>=2022.7 in /usr/local/lib/python3.10/dist-packages (from pandas) (2024.2)\n",
      "Requirement already satisfied: scipy>=1.6.0 in /usr/local/lib/python3.10/dist-packages (from scikit-learn) (1.13.1)\n",
      "Requirement already satisfied: joblib>=1.2.0 in /usr/local/lib/python3.10/dist-packages (from scikit-learn) (1.4.2)\n",
      "Requirement already satisfied: threadpoolctl>=3.1.0 in /usr/local/lib/python3.10/dist-packages (from scikit-learn) (3.5.0)\n",
      "Requirement already satisfied: six>=1.5 in /usr/local/lib/python3.10/dist-packages (from python-dateutil>=2.8.2->pandas) (1.16.0)\n"
     ]
    }
   ],
   "source": [
    "!pip install torch torchvision torchaudio\n",
    "!pip install pandas scikit-learn\n"
   ]
  },
  {
   "cell_type": "markdown",
   "metadata": {
    "id": "pYUab6e-k37M"
   },
   "source": [
    "Import libraries\n"
   ]
  },
  {
   "cell_type": "code",
   "execution_count": 51,
   "metadata": {
    "id": "QWFbKW2uk6ej"
   },
   "outputs": [],
   "source": [
    "# Importing the necessary libraries\n",
    "import numpy as np\n",
    "import pandas as pd\n",
    "import torch\n",
    "import torch.nn as nn\n",
    "import torch.optim as optim\n",
    "from sklearn.model_selection import train_test_split\n",
    "from sklearn.preprocessing import StandardScaler\n",
    "from sklearn.metrics import mean_squared_error\n",
    "from torch.utils.data import DataLoader, TensorDataset\n",
    "import matplotlib.pyplot as plt\n",
    "\n"
   ]
  },
  {
   "cell_type": "markdown",
   "metadata": {
    "id": "3l5b4R3fk9zo"
   },
   "source": [
    "Load data"
   ]
  },
  {
   "cell_type": "code",
   "execution_count": 6,
   "metadata": {
    "id": "4iMHUmCKk-zo"
   },
   "outputs": [],
   "source": [
    "df = pd.read_csv('diabetes.csv')\n"
   ]
  },
  {
   "cell_type": "markdown",
   "metadata": {
    "id": "Tqs4-wRxlELm"
   },
   "source": [
    "Explore the Dataset: Use .head() to view the first few rows and understand the structure of your data."
   ]
  },
  {
   "cell_type": "code",
   "execution_count": 7,
   "metadata": {
    "colab": {
     "base_uri": "https://localhost:8080/"
    },
    "id": "oilwo6SzlE0w",
    "outputId": "f49d4139-0a78-4fb0-822a-3f1f2870c610"
   },
   "outputs": [
    {
     "name": "stdout",
     "output_type": "stream",
     "text": [
      "   Pregnancies  Glucose  BloodPressure  SkinThickness  Insulin   BMI  \\\n",
      "0            6      148             72             35        0  33.6   \n",
      "1            1       85             66             29        0  26.6   \n",
      "2            8      183             64              0        0  23.3   \n",
      "3            1       89             66             23       94  28.1   \n",
      "4            0      137             40             35      168  43.1   \n",
      "\n",
      "   DiabetesPedigreeFunction  Age  Outcome  \n",
      "0                     0.627   50        1  \n",
      "1                     0.351   31        0  \n",
      "2                     0.672   32        1  \n",
      "3                     0.167   21        0  \n",
      "4                     2.288   33        1  \n"
     ]
    }
   ],
   "source": [
    "print(df.head())\n"
   ]
  },
  {
   "cell_type": "markdown",
   "metadata": {
    "id": "DMJYk9qklLcb"
   },
   "source": [
    "Split the Data: Separate your features (inputs) from the target (output)."
   ]
  },
  {
   "cell_type": "code",
   "execution_count": 8,
   "metadata": {
    "id": "XJMVA7NslNx5"
   },
   "outputs": [],
   "source": [
    "X = df.drop('Outcome', axis=1).values  # Features\n",
    "y = df['Outcome'].values  # Target\n"
   ]
  },
  {
   "cell_type": "markdown",
   "metadata": {
    "id": "_IwAiJjllSL7"
   },
   "source": [
    "Train-Test Split: Use Scikit-learn to split the dataset into training and testing sets.\n"
   ]
  },
  {
   "cell_type": "code",
   "execution_count": 9,
   "metadata": {
    "id": "Uz9USMbXlVkz"
   },
   "outputs": [],
   "source": [
    "X_train, X_test, y_train, y_test = train_test_split(X, y, test_size=0.2, random_state=42)\n"
   ]
  },
  {
   "cell_type": "markdown",
   "metadata": {
    "id": "f0icH00DlYdN"
   },
   "source": [
    "Standardize the Data: Normalize the features using StandardScaler.\n",
    "\n"
   ]
  },
  {
   "cell_type": "markdown",
   "metadata": {
    "id": "uxEBvyx_2cCF"
   },
   "source": []
  },
  {
   "cell_type": "code",
   "execution_count": 61,
   "metadata": {
    "id": "7nkcPx5a3QeD"
   },
   "outputs": [],
   "source": [
    "class DiabetesModel:\n",
    "    def __init__(self, X, y, hidden_size=64, learning_rate=0.001, test_size=0.2, val_size=0.25, batch_size=32):\n",
    "        input_size = X.shape[1]\n",
    "\n",
    "        # Split data into train, validation, and test sets\n",
    "        X_train_val, X_test, y_train_val, y_test = train_test_split(X, y, test_size=test_size, random_state=42)\n",
    "        X_train, X_val, y_train, y_val = train_test_split(X_train_val, y_train_val, test_size=val_size, random_state=42)\n",
    "\n",
    "        # Standardize data\n",
    "        scaler = StandardScaler()\n",
    "        X_train = scaler.fit_transform(X_train)\n",
    "        X_val = scaler.transform(X_val)\n",
    "        X_test = scaler.transform(X_test)\n",
    "\n",
    "        # Convert to PyTorch tensors\n",
    "        self.X_train_tensor = torch.tensor(X_train, dtype=torch.float32)\n",
    "        self.y_train_tensor = torch.tensor(y_train, dtype=torch.float32).view(-1, 1)\n",
    "        self.X_val_tensor = torch.tensor(X_val, dtype=torch.float32)\n",
    "        self.y_val_tensor = torch.tensor(y_val, dtype=torch.float32).view(-1, 1)\n",
    "        self.X_test_tensor = torch.tensor(X_test, dtype=torch.float32)\n",
    "        self.y_test_tensor = torch.tensor(y_test, dtype=torch.float32).view(-1, 1)\n",
    "\n",
    "        # Set batch size\n",
    "        self.batch_size = batch_size\n",
    "\n",
    "        # Define the model architecture\n",
    "        self.model = nn.Sequential(\n",
    "            nn.Linear(input_size, hidden_size),\n",
    "            nn.ReLU(),\n",
    "            nn.Linear(hidden_size, 1)\n",
    "        )\n",
    "\n",
    "        # Define loss function and optimizer\n",
    "        self.criterion = nn.MSELoss()\n",
    "        self.optimizer = optim.Adam(self.model.parameters(), lr=learning_rate)\n",
    "\n",
    "    def train(self, num_epochs=100):\n",
    "        # Prepare DataLoader for training and validation data\n",
    "        train_dataset = TensorDataset(self.X_train_tensor, self.y_train_tensor)\n",
    "        val_dataset = TensorDataset(self.X_val_tensor, self.y_val_tensor)\n",
    "        train_loader = DataLoader(train_dataset, batch_size=self.batch_size, shuffle=True)\n",
    "        val_loader = DataLoader(val_dataset, batch_size=self.batch_size, shuffle=False)\n",
    "\n",
    "        # Store training and validation losses for visualization\n",
    "        train_losses, val_losses = [], []\n",
    "\n",
    "        for epoch in range(num_epochs):\n",
    "            # Training phase\n",
    "            self.model.train()\n",
    "            running_train_loss = 0.0\n",
    "            for inputs, targets in train_loader:\n",
    "                self.optimizer.zero_grad()\n",
    "                outputs = self.model(inputs)\n",
    "                loss = self.criterion(outputs, targets)\n",
    "                loss.backward()\n",
    "                self.optimizer.step()\n",
    "                running_train_loss += loss.item() * inputs.size(0)\n",
    "\n",
    "            # Average training loss for the epoch\n",
    "            epoch_train_loss = running_train_loss / len(train_loader.dataset)\n",
    "            train_losses.append(epoch_train_loss)\n",
    "\n",
    "            # Validation phase\n",
    "            self.model.eval()\n",
    "            running_val_loss = 0.0\n",
    "            with torch.no_grad():\n",
    "                for inputs, targets in val_loader:\n",
    "                    outputs = self.model(inputs)\n",
    "                    loss = self.criterion(outputs, targets)\n",
    "                    running_val_loss += loss.item() * inputs.size(0)\n",
    "\n",
    "            # Average validation loss for the epoch\n",
    "            epoch_val_loss = running_val_loss / len(val_loader.dataset)\n",
    "            val_losses.append(epoch_val_loss)\n",
    "\n",
    "            if (epoch + 1) % 10 == 0 or epoch == 0:\n",
    "                print(f'Epoch [{epoch + 1}/{num_epochs}] '\n",
    "                      f'Training Loss: {epoch_train_loss:.4f} '\n",
    "                      f'Validation Loss: {epoch_val_loss:.4f}')\n",
    "\n",
    "        # Plot training and validation losses and save the figure\n",
    "        plt.figure(figsize=(10, 5))\n",
    "        plt.plot(range(1, num_epochs + 1), train_losses, label='Training Loss')\n",
    "        plt.plot(range(1, num_epochs + 1), val_losses, label='Validation Loss')\n",
    "        plt.xlabel('Epoch')\n",
    "        plt.ylabel('Loss')\n",
    "        plt.title('Training and Validation Loss Over Epochs')\n",
    "        plt.legend()\n",
    "        plt.savefig('training_validation_loss_plot.png')  # Save plot as a file\n",
    "        plt.show()\n",
    "        print(\"Plot saved as 'training_validation_loss_plot.png'\")\n",
    "\n",
    "    def evaluate(self):\n",
    "        # Evaluate on the test data\n",
    "        self.model.eval()\n",
    "        with torch.no_grad():\n",
    "            test_outputs = self.model(self.X_test_tensor)\n",
    "            test_loss = self.criterion(test_outputs, self.y_test_tensor).item()\n",
    "            test_mse = mean_squared_error(self.y_test_tensor.numpy(), test_outputs.numpy())\n",
    "\n",
    "        print(f\"Test Loss: {test_loss:.4f}\")\n",
    "        print(f\"Test MSE: {test_mse:.4f}\")\n",
    "\n",
    "    def predict(self, X):\n",
    "        # Set model to evaluation mode for prediction\n",
    "        self.model.eval()\n",
    "        with torch.no_grad():\n",
    "            predictions = self.model(X)\n",
    "        return predictions\n"
   ]
  },
  {
   "cell_type": "code",
   "execution_count": 63,
   "metadata": {
    "colab": {
     "base_uri": "https://localhost:8080/",
     "height": 730
    },
    "id": "z6YstB49wnN9",
    "outputId": "b405ddb9-b785-4629-fe07-2dc79c30b80f"
   },
   "outputs": [
    {
     "name": "stdout",
     "output_type": "stream",
     "text": [
      "Epoch [1/100] Training Loss: 0.6207 Validation Loss: 0.4131\n",
      "Epoch [10/100] Training Loss: 0.1642 Validation Loss: 0.1541\n",
      "Epoch [20/100] Training Loss: 0.1462 Validation Loss: 0.1465\n",
      "Epoch [30/100] Training Loss: 0.1382 Validation Loss: 0.1469\n",
      "Epoch [40/100] Training Loss: 0.1329 Validation Loss: 0.1500\n",
      "Epoch [50/100] Training Loss: 0.1291 Validation Loss: 0.1544\n",
      "Epoch [60/100] Training Loss: 0.1256 Validation Loss: 0.1558\n",
      "Epoch [70/100] Training Loss: 0.1225 Validation Loss: 0.1585\n",
      "Epoch [80/100] Training Loss: 0.1199 Validation Loss: 0.1594\n",
      "Epoch [90/100] Training Loss: 0.1167 Validation Loss: 0.1597\n",
      "Epoch [100/100] Training Loss: 0.1131 Validation Loss: 0.1610\n"
     ]
    },
    {
     "data": {
      "image/png": "[encoded data removed]",
      "text/plain": [
       "<Figure size 1000x500 with 1 Axes>"
      ]
     },
     "metadata": {},
     "output_type": "display_data"
    },
    {
     "name": "stdout",
     "output_type": "stream",
     "text": [
      "Plot saved as 'training_validation_loss_plot.png'\n",
      "Test Loss: 0.1837\n",
      "Test MSE: 0.1837\n"
     ]
    }
   ],
   "source": [
    "# Load the dataset\n",
    "data = pd.read_csv('diabetes.csv')\n",
    "X = data.drop('Outcome', axis=1).values  # Features\n",
    "y = data['Outcome'].values  # Target\n",
    "\n",
    "# Create and train the model\n",
    "diabetes_model = DiabetesModel(X, y, hidden_size=64, learning_rate=0.001)  # Removed num_epochs\n",
    "diabetes_model.train(num_epochs=100)  # Pass num_epochs to the train method\n",
    "\n",
    "# Evaluate the model\n",
    "diabetes_model.evaluate()\n"
   ]
  },
  {
   "cell_type": "code",
   "execution_count": 53,
   "metadata": {
    "id": "ogUMXeedyJn_"
   },
   "outputs": [],
   "source": [
    "y_test_predictions = diabetes_model.model(diabetes_model.X_test_tensor).detach().numpy()\n",
    "y_pred_binary = (y_test_predictions >= 0.5).astype(int)  # Convert to binary predictions\n"
   ]
  },
  {
   "cell_type": "code",
   "execution_count": null,
   "metadata": {
    "id": "M-WypZIq4fNi"
   },
   "outputs": [],
   "source": []
  },
  {
   "cell_type": "code",
   "execution_count": 54,
   "metadata": {
    "id": "0HSvi2HUyRz2"
   },
   "outputs": [],
   "source": [
    "import matplotlib.pyplot as plt\n",
    "import seaborn as sns\n",
    "from sklearn.metrics import confusion_matrix, roc_curve, auc\n"
   ]
  },
  {
   "cell_type": "code",
   "execution_count": 55,
   "metadata": {
    "colab": {
     "base_uri": "https://localhost:8080/",
     "height": 410
    },
    "id": "klSXe7Ke0LcG",
    "outputId": "de34dfec-4515-4cd9-fd75-4335af5b33d3"
   },
   "outputs": [
    {
     "data": {
      "image/png": "[encoded data removed]",
      "text/plain": [
       "<Figure size 600x400 with 1 Axes>"
      ]
     },
     "metadata": {},
     "output_type": "display_data"
    }
   ],
   "source": [
    "# Confusion Matrix\n",
    "cm = confusion_matrix(diabetes_model.y_test_tensor.numpy(), y_pred_binary)\n",
    "\n",
    "plt.figure(figsize=(6, 4))\n",
    "sns.heatmap(cm, annot=True, fmt='d', cmap='Blues', cbar=False,\n",
    "            xticklabels=['No Diabetes', 'Diabetes'],\n",
    "            yticklabels=['No Diabetes', 'Diabetes'])\n",
    "plt.title('Confusion Matrix')\n",
    "plt.xlabel('Predicted')\n",
    "plt.ylabel('Actual')\n",
    "plt.show()\n"
   ]
  }
 ],
 "metadata": {
  "colab": {
   "provenance": []
  },
  "kernelspec": {
   "display_name": "Python 3",
   "name": "python3"
  },
  "language_info": {
   "name": "python"
  }
 },
 "nbformat": 4,
 "nbformat_minor": 0
}
